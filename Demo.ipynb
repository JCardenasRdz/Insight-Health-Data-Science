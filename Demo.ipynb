{
 "cells": [
  {
   "cell_type": "markdown",
   "metadata": {
    "nbpresent": {
     "id": "e702c751-6ec3-4a35-b35f-2f1863e1105d"
    },
    "slideshow": {
     "slide_type": "slide"
    }
   },
   "source": [
    "# Measuring pH of tumors using CEST MRI, salycilic acid and machine learning\n",
    "## By Julio Cárdenas-Rodriguez\n",
    "![](https://upload.wikimedia.org/wikipedia/commons/thumb/5/5f/Hirnmetastase_MRT-T1_KM.jpg/300px-Hirnmetastase_MRT-T1_KM.jpg)"
   ]
  },
  {
   "cell_type": "markdown",
   "metadata": {
    "nbpresent": {
     "id": "fadd60be-a31d-4a6b-95cb-e1216906e371"
    },
    "slideshow": {
     "slide_type": "slide"
    }
   },
   "source": [
    "<h1><center>Why should I care ?</center></h1>\n",
    "<img src=\"tumor_pH.png\" alt=\"Drawing\" style=\"width: 600px;\"/>"
   ]
  },
  {
   "cell_type": "markdown",
   "metadata": {
    "nbpresent": {
     "id": "eeebb5c2-8a8c-4d5b-a781-b87c14dfc182"
    },
    "slideshow": {
     "slide_type": "slide"
    }
   },
   "source": [
    "<h1><center>CEST MRI and aspirin</center></h1>\n",
    "<img src=\"cest_and_sacid.png\" alt=\"Drawing\" style=\"width: 600px;\"/>"
   ]
  },
  {
   "cell_type": "code",
   "execution_count": null,
   "metadata": {
    "collapsed": true
   },
   "outputs": [],
   "source": []
  }
 ],
 "metadata": {
  "anaconda-cloud": {},
  "kernelspec": {
   "display_name": "Python [conda root]",
   "language": "python",
   "name": "conda-root-py"
  },
  "language_info": {
   "codemirror_mode": {
    "name": "ipython",
    "version": 3
   },
   "file_extension": ".py",
   "mimetype": "text/x-python",
   "name": "python",
   "nbconvert_exporter": "python",
   "pygments_lexer": "ipython3",
   "version": "3.5.2"
  },
  "nbpresent": {
   "slides": {
    "227afb12-c7ca-4966-8dd2-65ceafba8f2b": {
     "id": "227afb12-c7ca-4966-8dd2-65ceafba8f2b",
     "prev": "b86c2bf7-7f59-46e7-8843-331fc6be61f4",
     "regions": {
      "3325c489-5826-44aa-adc1-52a5a36354c7": {
       "attrs": {
        "height": 0.8,
        "width": 0.8,
        "x": 0.1,
        "y": 0.1
       },
       "content": {
        "cell": "eeebb5c2-8a8c-4d5b-a781-b87c14dfc182",
        "part": "whole"
       },
       "id": "3325c489-5826-44aa-adc1-52a5a36354c7"
      },
      "514ba5b5-b70e-4308-a3c8-38290e3d2da0": {
       "attrs": {
        "height": 0.4,
        "width": 0.8,
        "x": 0.1,
        "y": 0.5
       },
       "content": {
        "cell": "804a3f23-e025-4e62-a81e-534ea1508cb4",
        "part": "whole"
       },
       "id": "514ba5b5-b70e-4308-a3c8-38290e3d2da0"
      },
      "cd939d21-0cd1-48ad-9e12-bf6d282f8250": {
       "attrs": {
        "height": 0.4,
        "width": 0.8,
        "x": 0.1,
        "y": 0.5
       },
       "content": {
        "cell": "96ce2714-ba2f-4aba-9014-5144135297f9",
        "part": "whole"
       },
       "id": "cd939d21-0cd1-48ad-9e12-bf6d282f8250"
      }
     }
    },
    "734f4a9a-1074-4d88-ae50-26be32e20c2d": {
     "id": "734f4a9a-1074-4d88-ae50-26be32e20c2d",
     "prev": null,
     "regions": {
      "5210eec6-d214-4303-bdfb-b73480adf48b": {
       "attrs": {
        "height": 0.8,
        "width": 0.8,
        "x": 0.1,
        "y": 0.1
       },
       "content": {
        "cell": "e702c751-6ec3-4a35-b35f-2f1863e1105d",
        "part": "whole"
       },
       "id": "5210eec6-d214-4303-bdfb-b73480adf48b"
      }
     }
    },
    "b86c2bf7-7f59-46e7-8843-331fc6be61f4": {
     "id": "b86c2bf7-7f59-46e7-8843-331fc6be61f4",
     "prev": "734f4a9a-1074-4d88-ae50-26be32e20c2d",
     "regions": {
      "37d4eb3f-d1ac-43bf-a49a-6dd332c46a97": {
       "attrs": {
        "height": 0.8,
        "width": 0.8,
        "x": 0.1,
        "y": 0.1
       },
       "content": {
        "cell": "fadd60be-a31d-4a6b-95cb-e1216906e371",
        "part": "whole"
       },
       "id": "37d4eb3f-d1ac-43bf-a49a-6dd332c46a97"
      }
     }
    }
   },
   "themes": {}
  }
 },
 "nbformat": 4,
 "nbformat_minor": 2
}
